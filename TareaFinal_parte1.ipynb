{
 "cells": [
  {
   "cell_type": "markdown",
   "id": "147d8f1c",
   "metadata": {},
   "source": [
    "### Exercise 1\n",
    "\n",
    "<div class=\"alert-success\">\n",
    "    \n",
    "1. **Use two maps of points.**\n",
    "\n",
    "2. **Compute the distance matrix for both maps.**\n",
    "\n",
    "3. **Select one row of the distance matrix, and plot the two points with the minimal distance on top of the country of your choosing.**\n",
    "</div>"
   ]
  },
  {
   "cell_type": "code",
   "execution_count": 7,
   "id": "37e27f65",
   "metadata": {},
   "outputs": [],
   "source": [
    "#SOLO ES UNA GRAFICA UNA MATRIZ Y NADA MAS\n",
    "#sellecionar lo que ncesitan hacer\n",
    "#esa es la distancia de punto a punto "
   ]
  },
  {
   "cell_type": "code",
   "execution_count": 29,
   "id": "5269ab1f",
   "metadata": {},
   "outputs": [
    {
     "data": {
      "text/plain": [
       "['country',\n",
       " 'cities',\n",
       " 'rivers',\n",
       " 'states',\n",
       " 'municipalities',\n",
       " 'border',\n",
       " 'airports']"
      ]
     },
     "execution_count": 29,
     "metadata": {},
     "output_type": "execute_result"
    }
   ],
   "source": [
    "from  fiona import listlayers\n",
    "import os\n",
    "\n",
    "argentinaMaps=os.path.join('maps','argentina22171','argentinaMaps22171_all1.gpkg')\n",
    "\n",
    "#layers in maps\n",
    "listlayers(argentinaMaps)"
   ]
  },
  {
   "cell_type": "code",
   "execution_count": 30,
   "id": "0420e9dc",
   "metadata": {
    "scrolled": true
   },
   "outputs": [],
   "source": [
    "# reading in the data:\n",
    "import os\n",
    "import geopandas as gpd\n",
    "\n",
    "states=gpd.read_file(argentinaMaps,layer='states')\n",
    "municipalities=gpd.read_file(argentinaMaps,layer='municipalities')\n",
    "airports=gpd.read_file(argentinaMaps,layer='airports')\n",
    "rivers=gpd.read_file(argentinaMaps,layer='rivers')\n",
    "border=gpd.read_file(argentinaMaps,layer='border')"
   ]
  },
  {
   "cell_type": "code",
   "execution_count": 31,
   "id": "c781073e",
   "metadata": {},
   "outputs": [
    {
     "name": "stdout",
     "output_type": "stream",
     "text": [
      "<class 'pandas.core.frame.DataFrame'>\n",
      "RangeIndex: 3824 entries, 0 to 3823\n",
      "Data columns (total 4 columns):\n",
      " #   Column        Non-Null Count  Dtype  \n",
      "---  ------        --------------  -----  \n",
      " 0   portName      3824 non-null   object \n",
      " 1   Country Code  3824 non-null   object \n",
      " 2   Latitude      3824 non-null   float64\n",
      " 3   Longitude     3824 non-null   float64\n",
      "dtypes: float64(2), object(2)\n",
      "memory usage: 119.6+ KB\n"
     ]
    }
   ],
   "source": [
    "#rename\n",
    "infoseaports.rename(columns={'Main Port Name':'portName'},inplace=True)\n",
    "#subset\n",
    "infoseaports=infoseaports.loc[:,['portName', 'Country Code','Latitude', 'Longitude']]\n",
    "\n",
    "# we have now\n",
    "infoseaports.info()"
   ]
  },
  {
   "cell_type": "code",
   "execution_count": 32,
   "id": "47445de6",
   "metadata": {},
   "outputs": [
    {
     "data": {
      "text/plain": [
       "['World Port Index Number',\n",
       " 'Region Name',\n",
       " 'Main Port Name',\n",
       " 'Alternate Port Name',\n",
       " 'UN/LOCODE',\n",
       " 'Country Code',\n",
       " 'World Water Body',\n",
       " 'Sailing Direction or Publication',\n",
       " 'Publication Link',\n",
       " 'Standard Nautical Chart',\n",
       " 'IHO S-57 Electronic Navigational Chart',\n",
       " 'IHO S-101 Electronic Navigational Chart',\n",
       " 'Digital Nautical Chart',\n",
       " 'Tidal Range (m)',\n",
       " 'Entrance Width (m)',\n",
       " 'Channel Depth (m)',\n",
       " 'Anchorage Depth (m)',\n",
       " 'Cargo Pier Depth (m)',\n",
       " 'Oil Terminal Depth (m)',\n",
       " 'Liquified Natural Gas Terminal Depth (m)',\n",
       " 'Maximum Vessel Length (m)',\n",
       " 'Maximum Vessel Beam (m)',\n",
       " 'Maximum Vessel Draft (m)',\n",
       " 'Offshore Maximum Vessel Length (m)',\n",
       " 'Offshore Maximum Vessel Beam (m)',\n",
       " 'Offshore Maximum Vessel Draft (m)',\n",
       " 'Harbor Size',\n",
       " 'Harbor Type',\n",
       " 'Harbor Use',\n",
       " 'Shelter Afforded',\n",
       " 'Entrance Restriction - Tide',\n",
       " 'Entrance Restriction - Heavy Swell',\n",
       " 'Entrance Restriction - Ice',\n",
       " 'Entrance Restriction - Other',\n",
       " 'Overhead Limits',\n",
       " 'Underkeel Clearance Management System',\n",
       " 'Good Holding Ground',\n",
       " 'Turning Area',\n",
       " 'Port Security',\n",
       " 'Estimated Time of Arrival Message',\n",
       " 'Quarantine - Pratique',\n",
       " 'Quarantine - Sanitation',\n",
       " 'Quarantine - Other',\n",
       " 'Traffic Separation Scheme',\n",
       " 'Vessel Traffic Service',\n",
       " 'First Port of Entry',\n",
       " 'US Representative',\n",
       " 'Pilotage - Compulsory',\n",
       " 'Pilotage - Available',\n",
       " 'Pilotage - Local Assistance',\n",
       " 'Pilotage - Advisable',\n",
       " 'Tugs - Salvage',\n",
       " 'Tugs - Assistance',\n",
       " 'Communications - Telephone',\n",
       " 'Communications - Telefax',\n",
       " 'Communications - Radio',\n",
       " 'Communications - Radiotelephone',\n",
       " 'Communications - Airport',\n",
       " 'Communications - Rail',\n",
       " 'Search and Rescue',\n",
       " 'NAVAREA',\n",
       " 'Facilities - Wharves',\n",
       " 'Facilities - Anchorage',\n",
       " 'Facilities - Dangerous Cargo Anchorage',\n",
       " 'Facilities - Med Mooring',\n",
       " 'Facilities - Beach Mooring',\n",
       " 'Facilities - Ice Mooring',\n",
       " 'Facilities - Ro-Ro',\n",
       " 'Facilities - Solid Bulk',\n",
       " 'Facilities - Liquid Bulk',\n",
       " 'Facilities - Container',\n",
       " 'Facilities - Breakbulk',\n",
       " 'Facilities - Oil Terminal',\n",
       " 'Facilities - LNG Terminal',\n",
       " 'Facilities - Other',\n",
       " 'Medical Facilities',\n",
       " 'Garbage Disposal',\n",
       " 'Chemical Holding Tank Disposal',\n",
       " 'Degaussing',\n",
       " 'Dirty Ballast Disposal',\n",
       " 'Cranes - Fixed',\n",
       " 'Cranes - Mobile',\n",
       " 'Cranes - Floating',\n",
       " 'Cranes - Container',\n",
       " 'Lifts - 100+ Tons',\n",
       " 'Lifts - 50-100 Tons',\n",
       " 'Lifts - 25-49 Tons',\n",
       " 'Lifts - 0-24 Tons',\n",
       " 'Services - Longshoremen',\n",
       " 'Services - Electricity',\n",
       " 'Services - Steam',\n",
       " 'Services - Navigation Equipment',\n",
       " 'Services - Electrical Repair',\n",
       " 'Services - Ice Breaking',\n",
       " 'Services - Diving',\n",
       " 'Supplies - Provisions',\n",
       " 'Supplies - Potable Water',\n",
       " 'Supplies - Fuel Oil',\n",
       " 'Supplies - Diesel Oil',\n",
       " 'Supplies - Aviation Fuel',\n",
       " 'Supplies - Deck',\n",
       " 'Supplies - Engine',\n",
       " 'Repairs',\n",
       " 'Dry Dock',\n",
       " 'Railway',\n",
       " 'Latitude',\n",
       " 'Longitude']"
      ]
     },
     "execution_count": 32,
     "metadata": {},
     "output_type": "execute_result"
    }
   ],
   "source": [
    "import pandas as pd \n",
    "\n",
    "\n",
    "portsFile=os.path.join('data','UpdatedPub150.csv')\n",
    "\n",
    "infoseaports=pd.read_csv(portsFile)\n",
    "#columns available (so many)\n",
    "infoseaports.columns.to_list()"
   ]
  },
  {
   "cell_type": "code",
   "execution_count": 33,
   "id": "0056af26",
   "metadata": {},
   "outputs": [
    {
     "name": "stdout",
     "output_type": "stream",
     "text": [
      "<class 'pandas.core.frame.DataFrame'>\n",
      "RangeIndex: 3824 entries, 0 to 3823\n",
      "Data columns (total 4 columns):\n",
      " #   Column        Non-Null Count  Dtype  \n",
      "---  ------        --------------  -----  \n",
      " 0   portName      3824 non-null   object \n",
      " 1   Country Code  3824 non-null   object \n",
      " 2   Latitude      3824 non-null   float64\n",
      " 3   Longitude     3824 non-null   float64\n",
      "dtypes: float64(2), object(2)\n",
      "memory usage: 119.6+ KB\n"
     ]
    }
   ],
   "source": [
    "#rename\n",
    "infoseaports.rename(columns={'Main Port Name':'portName'},inplace=True)\n",
    "#subset\n",
    "infoseaports=infoseaports.loc[:,['portName', 'Country Code','Latitude', 'Longitude']]\n",
    "\n",
    "# we have now\n",
    "infoseaports.info()"
   ]
  },
  {
   "cell_type": "code",
   "execution_count": 34,
   "id": "03c818b4",
   "metadata": {},
   "outputs": [
    {
     "data": {
      "text/html": [
       "<div>\n",
       "<style scoped>\n",
       "    .dataframe tbody tr th:only-of-type {\n",
       "        vertical-align: middle;\n",
       "    }\n",
       "\n",
       "    .dataframe tbody tr th {\n",
       "        vertical-align: top;\n",
       "    }\n",
       "\n",
       "    .dataframe thead th {\n",
       "        text-align: right;\n",
       "    }\n",
       "</style>\n",
       "<table border=\"1\" class=\"dataframe\">\n",
       "  <thead>\n",
       "    <tr style=\"text-align: right;\">\n",
       "      <th></th>\n",
       "      <th>portName</th>\n",
       "      <th>Country Code</th>\n",
       "      <th>Latitude</th>\n",
       "      <th>Longitude</th>\n",
       "    </tr>\n",
       "  </thead>\n",
       "  <tbody>\n",
       "    <tr>\n",
       "      <th>0</th>\n",
       "      <td>Maurer</td>\n",
       "      <td>United States</td>\n",
       "      <td>40.533333</td>\n",
       "      <td>-74.250000</td>\n",
       "    </tr>\n",
       "    <tr>\n",
       "      <th>1</th>\n",
       "      <td>Mangkasa Oil Terminal</td>\n",
       "      <td>Indonesia</td>\n",
       "      <td>-2.733333</td>\n",
       "      <td>121.066667</td>\n",
       "    </tr>\n",
       "    <tr>\n",
       "      <th>2</th>\n",
       "      <td>Iharana</td>\n",
       "      <td>Madagascar</td>\n",
       "      <td>-13.350000</td>\n",
       "      <td>50.000000</td>\n",
       "    </tr>\n",
       "    <tr>\n",
       "      <th>3</th>\n",
       "      <td>Andoany</td>\n",
       "      <td>Madagascar</td>\n",
       "      <td>-13.400000</td>\n",
       "      <td>48.300000</td>\n",
       "    </tr>\n",
       "    <tr>\n",
       "      <th>4</th>\n",
       "      <td>Chake Chake</td>\n",
       "      <td>Tanzania</td>\n",
       "      <td>-5.250000</td>\n",
       "      <td>39.766667</td>\n",
       "    </tr>\n",
       "  </tbody>\n",
       "</table>\n",
       "</div>"
      ],
      "text/plain": [
       "                portName   Country Code   Latitude   Longitude\n",
       "0                 Maurer  United States  40.533333  -74.250000\n",
       "1  Mangkasa Oil Terminal      Indonesia  -2.733333  121.066667\n",
       "2                Iharana     Madagascar -13.350000   50.000000\n",
       "3                Andoany     Madagascar -13.400000   48.300000\n",
       "4            Chake Chake       Tanzania  -5.250000   39.766667"
      ]
     },
     "execution_count": 34,
     "metadata": {},
     "output_type": "execute_result"
    }
   ],
   "source": [
    "# some rows\n",
    "infoseaports.head()"
   ]
  },
  {
   "cell_type": "code",
   "execution_count": 35,
   "id": "d7b89a70",
   "metadata": {},
   "outputs": [],
   "source": [
    "#primero creo los puntos espaciales no proyectados\n",
    "#1.spatial points (unprojected)\n",
    "seaports=gpd.GeoDataFrame(data=infoseaports.copy(),\n",
    "                           geometry=gpd.points_from_xy(infoseaports.Longitude,\n",
    "                                                       infoseaports.Latitude), \n",
    "                          crs=4326)# notice it is unprojected\n",
    "\n",
    "#2. subset: SUBSETTT me quedo con Brasil\n",
    "seaports_arg=seaports[seaports['Country Code']=='Argentina'].copy()\n",
    "\n",
    "#3. reset indexes\n",
    "seaports_arg.reset_index(drop=True, inplace=True)\n",
    "\n",
    "#4. reprojecting\n",
    "seaports_arg_22171=seaports_arg.to_crs(22171) # projected crs"
   ]
  },
  {
   "cell_type": "code",
   "execution_count": 36,
   "id": "a3931887",
   "metadata": {},
   "outputs": [
    {
     "data": {
      "text/plain": [
       "<geopandas.plotting.GeoplotAccessor object at 0x00000156A7920290>"
      ]
     },
     "execution_count": 36,
     "metadata": {},
     "output_type": "execute_result"
    }
   ],
   "source": [
    "largeAirports=airports[airports['type']=='large_airport'] #can't use \"airports.type\"\n",
    "largeAirports.reset_index(drop=True, inplace=True)\n",
    "largeAirports.plot"
   ]
  },
  {
   "cell_type": "code",
   "execution_count": 37,
   "id": "28649516",
   "metadata": {},
   "outputs": [
    {
     "name": "stderr",
     "output_type": "stream",
     "text": [
      "C:\\Users\\Edgar Ramos Castro\\AppData\\Local\\Temp\\ipykernel_25812\\955242424.py:7: UserWarning: The GeoDataFrame you are attempting to plot is empty. Nothing has been displayed.\n",
      "  base=largeAirports.plot(color='red',marker=\"^\")\n"
     ]
    },
    {
     "data": {
      "text/plain": [
       "<Axes: >"
      ]
     },
     "execution_count": 37,
     "metadata": {},
     "output_type": "execute_result"
    },
    {
     "data": {
      "image/png": "[encoded data removed]",
      "text/plain": [
       "<Figure size 640x480 with 1 Axes>"
      ]
     },
     "metadata": {},
     "output_type": "display_data"
    }
   ],
   "source": [
    "# subsetting\n",
    "largeAirports=airports[airports['type']=='large_airport'] #can't use \"airports.type\"\n",
    "largeAirports.reset_index(drop=True, inplace=True)\n",
    "\n",
    "#ahora voy a graficar los aeropuertos y los puertos\n",
    "#plotting\n",
    "base=largeAirports.plot(color='red',marker=\"^\")\n",
    "seaports_arg_22171.plot(ax=base,alpha=0.5,markersize=3)"
   ]
  },
  {
   "cell_type": "code",
   "execution_count": null,
   "id": "8fa7a404",
   "metadata": {},
   "outputs": [],
   "source": []
  }
 ],
 "metadata": {
  "kernelspec": {
   "display_name": "Python 3 (ipykernel)",
   "language": "python",
   "name": "python3"
  },
  "language_info": {
   "codemirror_mode": {
    "name": "ipython",
    "version": 3
   },
   "file_extension": ".py",
   "mimetype": "text/x-python",
   "name": "python",
   "nbconvert_exporter": "python",
   "pygments_lexer": "ipython3",
   "version": "3.11.4"
  }
 },
 "nbformat": 4,
 "nbformat_minor": 5
}
