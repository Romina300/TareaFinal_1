{
 "cells": [
  {
   "cell_type": "markdown",
   "id": "4c3a2c9a",
   "metadata": {},
   "source": [
    "### Exercise 1\n",
    "\n",
    "<div class=\"alert-success\">\n",
    "    \n",
    "1. **Use two maps of points.**\n",
    "\n",
    "2. **Compute the distance matrix for both maps.**\n",
    "\n",
    "3. **Select one row of the distance matrix, and plot the two points with the minimal distance on top of the country of your choosing.**\n",
    "</div>"
   ]
  },
  {
   "cell_type": "code",
   "execution_count": 7,
   "id": "86152c23",
   "metadata": {},
   "outputs": [],
   "source": [
    "#SOLO ES UNA GRAFICA UNA MATRIZ Y NADA MAS\n",
    "#sellecionar lo que ncesitan hacer\n",
    "#esa es la distancia de punto a punto "
   ]
  },
  {
   "cell_type": "code",
   "execution_count": 9,
   "id": "4ae59098",
   "metadata": {},
   "outputs": [
    {
     "data": {
      "text/plain": [
       "['country', 'cities', 'rivers']"
      ]
     },
     "execution_count": 9,
     "metadata": {},
     "output_type": "execute_result"
    }
   ],
   "source": [
    "from  fiona import listlayers\n",
    "import os\n",
    "\n",
    "argentinaMaps=os.path.join('maps','argentina22171','argentinaMaps22171.gpkg')\n",
    "\n",
    "#layers in maps\n",
    "listlayers(argentinaMaps)"
   ]
  },
  {
   "cell_type": "code",
   "execution_count": 10,
   "id": "a37e8bfb",
   "metadata": {},
   "outputs": [
    {
     "ename": "TypeError",
     "evalue": "_read_file() missing 1 required positional argument: 'filename'",
     "output_type": "error",
     "traceback": [
      "\u001b[1;31m---------------------------------------------------------------------------\u001b[0m",
      "\u001b[1;31mTypeError\u001b[0m                                 Traceback (most recent call last)",
      "Cell \u001b[1;32mIn[10], line 5\u001b[0m\n\u001b[0;32m      2\u001b[0m \u001b[38;5;28;01mimport\u001b[39;00m \u001b[38;5;21;01mos\u001b[39;00m\n\u001b[0;32m      3\u001b[0m \u001b[38;5;28;01mimport\u001b[39;00m \u001b[38;5;21;01mgeopandas\u001b[39;00m \u001b[38;5;28;01mas\u001b[39;00m \u001b[38;5;21;01mgpd\u001b[39;00m\n\u001b[1;32m----> 5\u001b[0m states\u001b[38;5;241m=\u001b[39mgpd\u001b[38;5;241m.\u001b[39mread_file(argentinaMaps\u001b[38;5;241m=\u001b[39mos\u001b[38;5;241m.\u001b[39mpath\u001b[38;5;241m.\u001b[39mjoin(\u001b[38;5;124m'\u001b[39m\u001b[38;5;124mmaps\u001b[39m\u001b[38;5;124m'\u001b[39m,\u001b[38;5;124m'\u001b[39m\u001b[38;5;124margentina22171\u001b[39m\u001b[38;5;124m'\u001b[39m,\u001b[38;5;124m'\u001b[39m\u001b[38;5;124margentinaMaps22171.gpkg\u001b[39m\u001b[38;5;124m'\u001b[39m)\n\u001b[0;32m      6\u001b[0m ,layer\u001b[38;5;241m=\u001b[39m\u001b[38;5;124m'\u001b[39m\u001b[38;5;124mstates\u001b[39m\u001b[38;5;124m'\u001b[39m)\n\u001b[0;32m      7\u001b[0m municipalities\u001b[38;5;241m=\u001b[39mgpd\u001b[38;5;241m.\u001b[39mread_file(argentinaMaps\u001b[38;5;241m=\u001b[39mos\u001b[38;5;241m.\u001b[39mpath\u001b[38;5;241m.\u001b[39mjoin(\u001b[38;5;124m'\u001b[39m\u001b[38;5;124mmaps\u001b[39m\u001b[38;5;124m'\u001b[39m,\u001b[38;5;124m'\u001b[39m\u001b[38;5;124margentina22171\u001b[39m\u001b[38;5;124m'\u001b[39m,\u001b[38;5;124m'\u001b[39m\u001b[38;5;124margentinaMaps22171.gpkg\u001b[39m\u001b[38;5;124m'\u001b[39m)\n\u001b[0;32m      8\u001b[0m ,layer\u001b[38;5;241m=\u001b[39m\u001b[38;5;124m'\u001b[39m\u001b[38;5;124mmunicipalities\u001b[39m\u001b[38;5;124m'\u001b[39m)\n\u001b[0;32m      9\u001b[0m airports\u001b[38;5;241m=\u001b[39mgpd\u001b[38;5;241m.\u001b[39mread_file(argentinaMaps\u001b[38;5;241m=\u001b[39mos\u001b[38;5;241m.\u001b[39mpath\u001b[38;5;241m.\u001b[39mjoin(\u001b[38;5;124m'\u001b[39m\u001b[38;5;124mmaps\u001b[39m\u001b[38;5;124m'\u001b[39m,\u001b[38;5;124m'\u001b[39m\u001b[38;5;124margentina22171\u001b[39m\u001b[38;5;124m'\u001b[39m,\u001b[38;5;124m'\u001b[39m\u001b[38;5;124margentinaMaps22171.gpkg\u001b[39m\u001b[38;5;124m'\u001b[39m)\n\u001b[0;32m     10\u001b[0m ,layer\u001b[38;5;241m=\u001b[39m\u001b[38;5;124m'\u001b[39m\u001b[38;5;124mairports\u001b[39m\u001b[38;5;124m'\u001b[39m)\n",
      "\u001b[1;31mTypeError\u001b[0m: _read_file() missing 1 required positional argument: 'filename'"
     ]
    }
   ],
   "source": []
  },
  {
   "cell_type": "code",
   "execution_count": null,
   "id": "ef155a5d",
   "metadata": {},
   "outputs": [],
   "source": [
    "#rename\n",
    "infoseaports.rename(columns={'Main Port Name':'portName'},inplace=True)\n",
    "#subset\n",
    "infoseaports=infoseaports.loc[:,['portName', 'Country Code','Latitude', 'Longitude']]\n",
    "\n",
    "# we have now\n",
    "infoseaports.info()"
   ]
  },
  {
   "cell_type": "code",
   "execution_count": null,
   "id": "4592fa99",
   "metadata": {},
   "outputs": [],
   "source": [
    "import pandas as pd \n",
    "\n",
    "\n",
    "portsFile=os.path.join('miningGDF','data','UpdatedPub150.csv')\n",
    "\n",
    "infoseaports=pd.read_csv(portsFile)\n",
    "#columns available (so many)\n",
    "infoseaports.columns.to_list()"
   ]
  }
 ],
 "metadata": {
  "kernelspec": {
   "display_name": "Python 3 (ipykernel)",
   "language": "python",
   "name": "python3"
  },
  "language_info": {
   "codemirror_mode": {
    "name": "ipython",
    "version": 3
   },
   "file_extension": ".py",
   "mimetype": "text/x-python",
   "name": "python",
   "nbconvert_exporter": "python",
   "pygments_lexer": "ipython3",
   "version": "3.11.4"
  }
 },
 "nbformat": 4,
 "nbformat_minor": 5
}
